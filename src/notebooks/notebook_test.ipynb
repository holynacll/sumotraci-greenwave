{
 "cells": [
  {
   "cell_type": "code",
   "execution_count": null,
   "metadata": {},
   "outputs": [],
   "source": [
    "caminho_do_arquivo = '../data/emissions_0.csv'\n",
    "df = pd.read_csv(caminho_do_arquivo)\n",
    "df.head()"
   ]
  },
  {
   "cell_type": "code",
   "execution_count": null,
   "metadata": {},
   "outputs": [],
   "source": [
    "# Agrupar por 'id' e pegar o último registro de cada grupo\n",
    "df_ultimos = df.groupby(['id']).last()\n",
    "df_ultimos_type_default_vehtype = df_ultimos[df_ultimos['type'] == 'DEFAULT_VEHTYPE']\n",
    "df_ultimos_type_emergency_emergency = df_ultimos[df_ultimos['type'] == 'emergency_emergency']\n"
   ]
  },
  {
   "cell_type": "code",
   "execution_count": null,
   "metadata": {},
   "outputs": [],
   "source": [
    "# Calcular a soma do CO2\n",
    "soma_co2 = df_ultimos['CO2'].sum()\n",
    "soma_co2_emergency = df_ultimos_type_emergency_emergency['CO2'].sum()\n",
    "soma_co2, soma_co2_emergency"
   ]
  },
  {
   "cell_type": "code",
   "execution_count": null,
   "metadata": {},
   "outputs": [],
   "source": [
    "# Obter o número de registros (que é igual ao número de IDs únicos)\n",
    "numero_de_registros = df_ultimos.shape[0]\n",
    "numero_de_registros_emergency = df_ultimos_type_emergency_emergency.shape[0]"
   ]
  },
  {
   "cell_type": "code",
   "execution_count": null,
   "metadata": {},
   "outputs": [],
   "source": [
    "# Calcular a média de CO2 para os veículos de emergência\n",
    "media_co2_emergency = soma_co2_emergency / numero_de_registros_emergency\n",
    "print(f\"A média de CO2 para os veículos de emergência é: {media_co2_emergency}\")"
   ]
  }
 ],
 "metadata": {
  "language_info": {
   "name": "python"
  }
 },
 "nbformat": 4,
 "nbformat_minor": 2
}
